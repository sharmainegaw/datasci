{
 "cells": [
  {
   "cell_type": "markdown",
   "metadata": {},
   "source": [
    "# Hands-on: `pandas` & Data Cleaning\n",
    "\n",
    "This hands-on will cover handling data using the `pandas` library.\n",
    "- Reading in data\n",
    "- Descriptive statistics\n",
    "- Data wrangling\n",
    "- Filtering\n",
    "- Aggregation\n",
    "- Merging\n",
    "\n",
    "_This notebook was derived from the Introduction to Data Science notebooks by Unisse Chua, Jude Teves and Sashmir Yap of the Data Science Institute._"
   ]
  },
  {
   "cell_type": "code",
   "execution_count": 5,
   "metadata": {},
   "outputs": [],
   "source": [
    "# all imports are placed at the top of the notebook \n",
    "# to ensure that any library needed to fully run the notebook are loaded (and installed)\n",
    "import os\n",
    "\n",
    "import pandas as pd\n",
    "import numpy as np\n",
    "\n",
    "from pathlib import Path"
   ]
  },
  {
   "cell_type": "markdown",
   "metadata": {},
   "source": [
    "### Reproducibility\n",
    "\n",
    "With data science, or any project that requires data processing and analysis, it is important to ensure that the code provided can be replicated by other members of the team. One such way is by setting up an **environment variable** that represents a central location for the data files.\n",
    "\n",
    "Steps: \n",
    "1. Create a folder in your computer to serve as the location for all the data files of your project.\n",
    "2. Save the directory path as an environment variable. The name of the variable should be the same for all team members so that everyone would simply have to use this name across their code.\n",
    "\n",
    "This folder will host **only DATA files**. Code may be kept elsewhere. The code simply needs to reference to this folder when accessing and saving data files."
   ]
  },
  {
   "cell_type": "code",
   "execution_count": 2,
   "metadata": {},
   "outputs": [
    {
     "data": {
      "text/plain": [
       "PosixPath('/Users/brianesamson/Projects/datapre-notebooks/notebooks/data')"
      ]
     },
     "execution_count": 2,
     "metadata": {},
     "output_type": "execute_result"
    }
   ],
   "source": [
    "DSDATA = Path(os.getenv('DSDATA'))\n",
    "DSDATA"
   ]
  },
  {
   "cell_type": "markdown",
   "metadata": {},
   "source": [
    "## Data\n",
    "\n",
    "The Philippines has an Open Data portal: https://data.gov.ph\n",
    "\n",
    "For this exercise, we'll be using the [Public Elementary School Enrollment Statistics](https://data.gov.ph/?q=dataset/public-elementary-school-enrollment-statistics) provided by the Department of Education. The page contains two files. Download both files and save them to the same folder as this notebook."
   ]
  },
  {
   "cell_type": "markdown",
   "metadata": {},
   "source": [
    "## Reading Data\n",
    "\n",
    "\"`pandas` is an open source, BSD-licensed library providing high-performance, easy-to-use data structures and data analysis tools for the Python programming language.\" - [Source](https://pandas.pydata.org/pandas-docs/stable/)\n",
    "\n",
    "Commonly used file types for published *(semi-)* structured data are **CSV (or TSV)** and sometimes even **Excel** (although this is not an 'open' format). In `pandas`, it's straightforward to read in these types of files."
   ]
  },
  {
   "cell_type": "code",
   "execution_count": null,
   "metadata": {},
   "outputs": [],
   "source": [
    "pd.read_csv?"
   ]
  },
  {
   "cell_type": "code",
   "execution_count": null,
   "metadata": {},
   "outputs": [],
   "source": [
    "pd.read_excel?"
   ]
  },
  {
   "cell_type": "code",
   "execution_count": 3,
   "metadata": {},
   "outputs": [
    {
     "data": {
      "text/html": [
       "<div>\n",
       "<style scoped>\n",
       "    .dataframe tbody tr th:only-of-type {\n",
       "        vertical-align: middle;\n",
       "    }\n",
       "\n",
       "    .dataframe tbody tr th {\n",
       "        vertical-align: top;\n",
       "    }\n",
       "\n",
       "    .dataframe thead th {\n",
       "        text-align: right;\n",
       "    }\n",
       "</style>\n",
       "<table border=\"1\" class=\"dataframe\">\n",
       "  <thead>\n",
       "    <tr style=\"text-align: right;\">\n",
       "      <th></th>\n",
       "      <th>school_id</th>\n",
       "      <th>school_name</th>\n",
       "      <th>region</th>\n",
       "      <th>province</th>\n",
       "      <th>municipality</th>\n",
       "      <th>division</th>\n",
       "      <th>district</th>\n",
       "      <th>year_level</th>\n",
       "      <th>gender</th>\n",
       "      <th>enrollment</th>\n",
       "    </tr>\n",
       "  </thead>\n",
       "  <tbody>\n",
       "    <tr>\n",
       "      <th>0</th>\n",
       "      <td>101746</td>\n",
       "      <td>A. Diaz, Sr. ES</td>\n",
       "      <td>I (Ilocos Region)</td>\n",
       "      <td>Pangasinan</td>\n",
       "      <td>Bautista</td>\n",
       "      <td>Pangasinan II, Binalonan</td>\n",
       "      <td>Bautista</td>\n",
       "      <td>grade 1</td>\n",
       "      <td>male</td>\n",
       "      <td>53</td>\n",
       "    </tr>\n",
       "    <tr>\n",
       "      <th>1</th>\n",
       "      <td>102193</td>\n",
       "      <td>A. P. Santos ES (SPED Center)</td>\n",
       "      <td>I (Ilocos Region)</td>\n",
       "      <td>Ilocos Norte</td>\n",
       "      <td>Laoag City (Capital)</td>\n",
       "      <td>Laoag City</td>\n",
       "      <td>Laoag City District II</td>\n",
       "      <td>grade 1</td>\n",
       "      <td>male</td>\n",
       "      <td>31</td>\n",
       "    </tr>\n",
       "    <tr>\n",
       "      <th>2</th>\n",
       "      <td>101283</td>\n",
       "      <td>A.P. Guevarra IS</td>\n",
       "      <td>I (Ilocos Region)</td>\n",
       "      <td>Pangasinan</td>\n",
       "      <td>Bayambang</td>\n",
       "      <td>Pangasinan I, Lingayen</td>\n",
       "      <td>Bayambang II</td>\n",
       "      <td>grade 1</td>\n",
       "      <td>male</td>\n",
       "      <td>16</td>\n",
       "    </tr>\n",
       "    <tr>\n",
       "      <th>3</th>\n",
       "      <td>100216</td>\n",
       "      <td>Ab-Abut ES</td>\n",
       "      <td>I (Ilocos Region)</td>\n",
       "      <td>Ilocos Norte</td>\n",
       "      <td>Piddig</td>\n",
       "      <td>Ilocos Norte</td>\n",
       "      <td>Piddig</td>\n",
       "      <td>grade 1</td>\n",
       "      <td>male</td>\n",
       "      <td>19</td>\n",
       "    </tr>\n",
       "    <tr>\n",
       "      <th>4</th>\n",
       "      <td>100043</td>\n",
       "      <td>Abaca ES</td>\n",
       "      <td>I (Ilocos Region)</td>\n",
       "      <td>Ilocos Norte</td>\n",
       "      <td>Bangui</td>\n",
       "      <td>Ilocos Norte</td>\n",
       "      <td>Bangui</td>\n",
       "      <td>grade 1</td>\n",
       "      <td>male</td>\n",
       "      <td>12</td>\n",
       "    </tr>\n",
       "  </tbody>\n",
       "</table>\n",
       "</div>"
      ],
      "text/plain": [
       "   school_id                    school_name             region      province  \\\n",
       "0     101746                A. Diaz, Sr. ES  I (Ilocos Region)    Pangasinan   \n",
       "1     102193  A. P. Santos ES (SPED Center)  I (Ilocos Region)  Ilocos Norte   \n",
       "2     101283               A.P. Guevarra IS  I (Ilocos Region)    Pangasinan   \n",
       "3     100216                     Ab-Abut ES  I (Ilocos Region)  Ilocos Norte   \n",
       "4     100043                       Abaca ES  I (Ilocos Region)  Ilocos Norte   \n",
       "\n",
       "           municipality                  division                district  \\\n",
       "0              Bautista  Pangasinan II, Binalonan                Bautista   \n",
       "1  Laoag City (Capital)                Laoag City  Laoag City District II   \n",
       "2             Bayambang    Pangasinan I, Lingayen            Bayambang II   \n",
       "3                Piddig              Ilocos Norte                  Piddig   \n",
       "4                Bangui              Ilocos Norte                  Bangui   \n",
       "\n",
       "  year_level gender  enrollment  \n",
       "0    grade 1   male          53  \n",
       "1    grade 1   male          31  \n",
       "2    grade 1   male          16  \n",
       "3    grade 1   male          19  \n",
       "4    grade 1   male          12  "
      ]
     },
     "execution_count": 3,
     "metadata": {},
     "output_type": "execute_result"
    }
   ],
   "source": [
    "# by default, the encoding is utf-8, but since the data has some latin characters\n",
    "# the encoding argument needs to be updated\n",
    "deped2012 = pd.read_csv(DSDATA / 'deped_publicelementaryenrollment2012.csv', encoding='latin1')\n",
    "\n",
    "# the head function provides a preview of the first 5 rows of the data\n",
    "deped2012.head()"
   ]
  },
  {
   "cell_type": "code",
   "execution_count": null,
   "metadata": {},
   "outputs": [],
   "source": [
    "# Let's read in the other file too\n",
    "deped2015 = pd.read_csv(DSDATA / 'depend_publicelementaryenrollment2015.csv', encoding='latin1')\n",
    "deped2015.head()"
   ]
  },
  {
   "cell_type": "markdown",
   "metadata": {},
   "source": [
    "### Let's begin exploring the data...\n",
    "\n",
    "* How many rows and columns do we have? \n",
    "* What is the data type of each column? \n",
    "* What is the most common value? Mean? Standard deviation?"
   ]
  },
  {
   "cell_type": "markdown",
   "metadata": {},
   "source": [
    "#### `shape`\n",
    "\n",
    "A `pandas` `DataFrame` is essentially a 2D `numpy` array. Using the `shape` attribute of the `DataFrame`, we can easily check the dimensions of the data file we read. It returns a tuple of the dimensions."
   ]
  },
  {
   "cell_type": "code",
   "execution_count": null,
   "metadata": {},
   "outputs": [],
   "source": [
    "deped2012.shape"
   ]
  },
  {
   "cell_type": "markdown",
   "metadata": {},
   "source": [
    "#### `dtypes` \n",
    "`dtypes` lets you check what data type each column is."
   ]
  },
  {
   "cell_type": "code",
   "execution_count": null,
   "metadata": {},
   "outputs": [],
   "source": [
    "deped2012.dtypes"
   ]
  },
  {
   "cell_type": "markdown",
   "metadata": {},
   "source": [
    "#### `describe()`\n",
    "`describe()` provides the basic descriptive statistics of the`DataFrame`. By default, it only includes the columns with numerical data. Non-numerical columns are omitted but there are arguments that shows the statistics related to non-numerical data."
   ]
  },
  {
   "cell_type": "code",
   "execution_count": null,
   "metadata": {},
   "outputs": [],
   "source": [
    "deped2012.describe()"
   ]
  },
  {
   "cell_type": "code",
   "execution_count": null,
   "metadata": {},
   "outputs": [],
   "source": [
    "deped2012.describe(include=np.object)"
   ]
  },
  {
   "cell_type": "markdown",
   "metadata": {},
   "source": [
    "### Data Wrangling\n",
    "\n",
    "After looking at the basic information about the data, let's see how \"clean\" the data is\n",
    "\n",
    "#### Common Data Problems (from slides)\n",
    "1. Missing values\n",
    "2. Formatting issues / data types\n",
    "3. Duplicate records\n",
    "4. Varying representation / Handle categorical values"
   ]
  },
  {
   "cell_type": "markdown",
   "metadata": {},
   "source": [
    "#### `isna()` / `isnull()`\n",
    "\n",
    "To check if there's any missing values, `pandas` provides these two functions to detect them. This actually maps each individual cell to either True or False.\n",
    "\n",
    "#### `dropna()`\n",
    "\n",
    "To remove any records with missing values, `dropna()` may be used. It has a number of arguments to help narrow down the criteria for removing the records with missing values."
   ]
  },
  {
   "cell_type": "code",
   "execution_count": null,
   "metadata": {},
   "outputs": [],
   "source": [
    "deped2012.isna?"
   ]
  },
  {
   "cell_type": "code",
   "execution_count": null,
   "metadata": {},
   "outputs": [],
   "source": [
    "deped2012.dropna?"
   ]
  },
  {
   "cell_type": "markdown",
   "metadata": {},
   "source": [
    "#### `duplicated()` --> `drop_duplicates()`\n",
    "\n",
    "The `duplicated()` function returns the duplicated rows in the `DataFrame`. It also has a number of arguments for you to specify the subset of columns. \n",
    "\n",
    "`drop_duplicates()` is the function to remove the duplicated rows found by `duplicated()`."
   ]
  },
  {
   "cell_type": "code",
   "execution_count": null,
   "metadata": {},
   "outputs": [],
   "source": [
    "deped2012.duplicated?"
   ]
  },
  {
   "cell_type": "code",
   "execution_count": null,
   "metadata": {},
   "outputs": [],
   "source": [
    "deped2012.drop_duplicates?"
   ]
  },
  {
   "cell_type": "markdown",
   "metadata": {},
   "source": [
    "#### Varying representation\n",
    "\n",
    "For categorical or textual data, unless the options provided are fixed, misspellings and different representations may exist in the same file.\n",
    "\n",
    "To check the unique values of each column, a `pandas` `Series` has a function `unique()` which returns all the unique values of the column."
   ]
  },
  {
   "cell_type": "code",
   "execution_count": null,
   "metadata": {},
   "outputs": [],
   "source": [
    "deped2012['province'].unique()"
   ]
  },
  {
   "cell_type": "code",
   "execution_count": null,
   "metadata": {},
   "outputs": [],
   "source": [
    "deped2012['year_level'].unique()"
   ]
  },
  {
   "cell_type": "code",
   "execution_count": null,
   "metadata": {},
   "outputs": [],
   "source": [
    "deped2012['region'].unique()"
   ]
  },
  {
   "cell_type": "code",
   "execution_count": null,
   "metadata": {},
   "outputs": [],
   "source": [
    "deped2015['region'].unique()"
   ]
  },
  {
   "cell_type": "markdown",
   "metadata": {},
   "source": [
    "### Summarizing Data\n",
    "\n",
    "High data granularity is great for a detailed analysis. However, data is usually summarized or aggregated prior to visualization. `pandas` also provides an easy way to summarize data based on the columns you'd like using the `groupby` function.\n",
    "\n",
    "We can call any of the following when grouping by columns:\n",
    "- count()\n",
    "- sum()\n",
    "- min()\n",
    "- max()\n",
    "- std()\n",
    "\n",
    "For columns that are categorical in nature, we can simply do `df['column'].value_counts()`. This will give the frequency of each unique value in the column. "
   ]
  },
  {
   "cell_type": "code",
   "execution_count": null,
   "metadata": {},
   "outputs": [],
   "source": [
    "pd.Series.value_counts?"
   ]
  },
  {
   "cell_type": "code",
   "execution_count": null,
   "metadata": {},
   "outputs": [],
   "source": [
    "deped2012.groupby?"
   ]
  },
  {
   "cell_type": "markdown",
   "metadata": {},
   "source": [
    "#### Exercise! \n",
    "\n",
    "Let's try to get the following:\n",
    "1. Total number of enrolled students per region and gender\n",
    "2. Total number of enrolled students per year level and gender"
   ]
  },
  {
   "cell_type": "code",
   "execution_count": null,
   "metadata": {},
   "outputs": [],
   "source": [
    "deped2012.groupby(['region', 'gender'], as_index=False).sum()"
   ]
  },
  {
   "cell_type": "code",
   "execution_count": null,
   "metadata": {},
   "outputs": [],
   "source": [
    "deped2012.groupby(['year_level', 'gender']).sum()"
   ]
  },
  {
   "cell_type": "markdown",
   "metadata": {},
   "source": [
    "### Filtering Data\n",
    "\n"
   ]
  },
  {
   "cell_type": "markdown",
   "metadata": {},
   "source": [
    "### Merging Data\n",
    "\n",
    "Data are sometimes separated into different files or additional data from another source can be associated to another dataset. `pandas` provides means to combine different `DataFrames` together (provided that there are common variables that it can connect them to.\n",
    "\n",
    "#### `pd.merge`\n",
    "`merge()` is very similar to database-style joins. `pandas` allows merging of `DataFrame` and **named** `Series` objects together. A join can be done along columns or indexes.\n",
    "\n",
    "#### `pd.concat`\n",
    "`concat()` on the other hand combines `pandas` objects along a specific axis.\n",
    "\n",
    "#### `df.append`\n",
    "`append()` basically adds the rows of another `DataFrame` or `Series` to the end of the caller. "
   ]
  },
  {
   "cell_type": "code",
   "execution_count": null,
   "metadata": {},
   "outputs": [],
   "source": [
    "pd.merge?"
   ]
  },
  {
   "cell_type": "code",
   "execution_count": null,
   "metadata": {},
   "outputs": [],
   "source": [
    "pd.concat?"
   ]
  },
  {
   "cell_type": "code",
   "execution_count": null,
   "metadata": {},
   "outputs": [],
   "source": [
    "deped2012.append?"
   ]
  },
  {
   "cell_type": "markdown",
   "metadata": {},
   "source": [
    "#### Exercise\n",
    "\n",
    "The task is to compare the enrollment statistics of the elementary schools between 2012 and 2015. \n",
    "\n",
    "1. Get the total number of enrolled students per school for each year\n",
    "2. Merge the two `DataFrame`s together to show the summarized statistics for the two years for all schools."
   ]
  },
  {
   "cell_type": "code",
   "execution_count": null,
   "metadata": {},
   "outputs": [],
   "source": [
    "stats2012 = deped2012.groupby('school_id', as_index=False).sum()\n",
    "stats2015 = deped2015.groupby('school_id', as_index=False).sum()"
   ]
  },
  {
   "cell_type": "code",
   "execution_count": 41,
   "metadata": {},
   "outputs": [
    {
     "data": {
      "text/html": [
       "<div>\n",
       "<style scoped>\n",
       "    .dataframe tbody tr th:only-of-type {\n",
       "        vertical-align: middle;\n",
       "    }\n",
       "\n",
       "    .dataframe tbody tr th {\n",
       "        vertical-align: top;\n",
       "    }\n",
       "\n",
       "    .dataframe thead th {\n",
       "        text-align: right;\n",
       "    }\n",
       "</style>\n",
       "<table border=\"1\" class=\"dataframe\">\n",
       "  <thead>\n",
       "    <tr style=\"text-align: right;\">\n",
       "      <th></th>\n",
       "      <th>school_id</th>\n",
       "      <th>enrollment</th>\n",
       "    </tr>\n",
       "  </thead>\n",
       "  <tbody>\n",
       "    <tr>\n",
       "      <th>0</th>\n",
       "      <td>100001</td>\n",
       "      <td>72</td>\n",
       "    </tr>\n",
       "    <tr>\n",
       "      <th>1</th>\n",
       "      <td>100002</td>\n",
       "      <td>365</td>\n",
       "    </tr>\n",
       "    <tr>\n",
       "      <th>2</th>\n",
       "      <td>100003</td>\n",
       "      <td>138</td>\n",
       "    </tr>\n",
       "    <tr>\n",
       "      <th>3</th>\n",
       "      <td>100004</td>\n",
       "      <td>89</td>\n",
       "    </tr>\n",
       "    <tr>\n",
       "      <th>4</th>\n",
       "      <td>100005</td>\n",
       "      <td>73</td>\n",
       "    </tr>\n",
       "  </tbody>\n",
       "</table>\n",
       "</div>"
      ],
      "text/plain": [
       "   school_id  enrollment\n",
       "0     100001          72\n",
       "1     100002         365\n",
       "2     100003         138\n",
       "3     100004          89\n",
       "4     100005          73"
      ]
     },
     "execution_count": 41,
     "metadata": {},
     "output_type": "execute_result"
    }
   ],
   "source": [
    "stats2012.head()"
   ]
  },
  {
   "cell_type": "code",
   "execution_count": null,
   "metadata": {},
   "outputs": [],
   "source": [
    "stats2012.shape"
   ]
  },
  {
   "cell_type": "code",
   "execution_count": 42,
   "metadata": {},
   "outputs": [
    {
     "data": {
      "text/html": [
       "<div>\n",
       "<style scoped>\n",
       "    .dataframe tbody tr th:only-of-type {\n",
       "        vertical-align: middle;\n",
       "    }\n",
       "\n",
       "    .dataframe tbody tr th {\n",
       "        vertical-align: top;\n",
       "    }\n",
       "\n",
       "    .dataframe thead th {\n",
       "        text-align: right;\n",
       "    }\n",
       "</style>\n",
       "<table border=\"1\" class=\"dataframe\">\n",
       "  <thead>\n",
       "    <tr style=\"text-align: right;\">\n",
       "      <th></th>\n",
       "      <th>school_id</th>\n",
       "      <th>enrollment</th>\n",
       "    </tr>\n",
       "  </thead>\n",
       "  <tbody>\n",
       "    <tr>\n",
       "      <th>0</th>\n",
       "      <td>100001</td>\n",
       "      <td>72</td>\n",
       "    </tr>\n",
       "    <tr>\n",
       "      <th>1</th>\n",
       "      <td>100002</td>\n",
       "      <td>407</td>\n",
       "    </tr>\n",
       "    <tr>\n",
       "      <th>2</th>\n",
       "      <td>100003</td>\n",
       "      <td>152</td>\n",
       "    </tr>\n",
       "    <tr>\n",
       "      <th>3</th>\n",
       "      <td>100004</td>\n",
       "      <td>107</td>\n",
       "    </tr>\n",
       "    <tr>\n",
       "      <th>4</th>\n",
       "      <td>100005</td>\n",
       "      <td>67</td>\n",
       "    </tr>\n",
       "  </tbody>\n",
       "</table>\n",
       "</div>"
      ],
      "text/plain": [
       "   school_id  enrollment\n",
       "0     100001          72\n",
       "1     100002         407\n",
       "2     100003         152\n",
       "3     100004         107\n",
       "4     100005          67"
      ]
     },
     "execution_count": 42,
     "metadata": {},
     "output_type": "execute_result"
    }
   ],
   "source": [
    "stats2015.head()"
   ]
  },
  {
   "cell_type": "code",
   "execution_count": null,
   "metadata": {},
   "outputs": [],
   "source": [
    "stats2015.shape"
   ]
  },
  {
   "cell_type": "markdown",
   "metadata": {},
   "source": [
    "#### Observations\n",
    "\n",
    "1. Are the number of rows for both `DataFrames` the same or different? What's the implication if they're different?\n",
    "2. Note the same column names for the two `DataFrames`. Based on the documentation for `merge()`, there's a parameter for suffixes for overlapping column names. If we want to avoid the \"messy\" suffixes, we can choose to rename columns prior to merging."
   ]
  },
  {
   "cell_type": "markdown",
   "metadata": {},
   "source": [
    "One way is to assign an array to the columns object representing the column names for ALL columns.\n",
    "\n",
    "```ipython\n",
    "stats2012.columns = ['school_id', '2012']\n",
    "stats2015.columns = ['school_id', '2015']\n",
    "```\n",
    "\n",
    "But this is not good if you have too many columns... `pandas` has a function `rename()` in which we can pass a \"mappable\" dictionary for the columns. The `inplace` parameter helps in renaming it and assigns the changed `DataFrame` back to the same variable.\n",
    "\n",
    "```ipython\n",
    "stats2012.rename(columns={'enrollment': '2012'}, inplace=True)\n",
    "stats2015.rename(columns={'enrollment': '2012'}, inplace=True)\n",
    "```"
   ]
  },
  {
   "cell_type": "code",
   "execution_count": null,
   "metadata": {},
   "outputs": [],
   "source": [
    "# try the code above"
   ]
  },
  {
   "cell_type": "code",
   "execution_count": null,
   "metadata": {},
   "outputs": [],
   "source": [
    "## Merge the two dataframes using different \"how\" parameters\n",
    "# how : {'left', 'right', 'outer', 'inner'}, default 'inner'"
   ]
  },
  {
   "cell_type": "code",
   "execution_count": null,
   "metadata": {},
   "outputs": [],
   "source": []
  }
 ],
 "metadata": {
  "kernelspec": {
   "display_name": "Python 3",
   "language": "python",
   "name": "python3"
  },
  "language_info": {
   "codemirror_mode": {
    "name": "ipython",
    "version": 3
   },
   "file_extension": ".py",
   "mimetype": "text/x-python",
   "name": "python",
   "nbconvert_exporter": "python",
   "pygments_lexer": "ipython3",
   "version": "3.7.4"
  }
 },
 "nbformat": 4,
 "nbformat_minor": 4
}
